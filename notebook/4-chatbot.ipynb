{
 "cells": [
  {
   "cell_type": "code",
   "execution_count": 1,
   "metadata": {},
   "outputs": [],
   "source": [
    "from config import config\n",
    "from typing import List\n",
    "from augmentation import Augmentation\n",
    "from aws.opensearch import OpenSearchWrapper\n",
    "from aws.embedding import BedrockEmbedding"
   ]
  },
  {
   "attachments": {},
   "cell_type": "markdown",
   "metadata": {},
   "source": [
    "---\n",
    "\n",
    "# Chatbot 대화\n",
    "\n",
    "이전 대화를 기억하기 위한 memory와 검색된 결과를 prompt로 넘겨서 질문에 답변하는 챗봇을 구현합니다."
   ]
  },
  {
   "attachments": {},
   "cell_type": "markdown",
   "metadata": {},
   "source": [
    "---\n",
    "\n",
    "## 1. ChatMemory 생성\n",
    "\n",
    "LLM 모델은 상태를 저장하지 않습니다. 대화 형태로 질의를 이어나가기 위해서는 이전 대화 내용을 프롬프트에 포함해 전달해야 합니다. 대화 기록을 저장하기 위해 LangChain의 Memory를 사용합니다.\n",
    "\n",
    "대화 기록 저장은 인메모리 데이터 스토어인 Redis를 사용합니다."
   ]
  },
  {
   "cell_type": "code",
   "execution_count": 2,
   "metadata": {},
   "outputs": [],
   "source": [
    "from langchain.memory.chat_memory import BaseChatMemory\n",
    "from langchain.memory import RedisChatMessageHistory, ConversationSummaryBufferMemory\n",
    "from aws.claude import BedrockClaude\n",
    "\n",
    "\n",
    "def get_redis_chat(chatId: str):\n",
    "    return RedisChatMessageHistory(\n",
    "            session_id=chatId,\n",
    "            url=f\"redis://{config.REDIS_HOST}:{config.REDIS_PORT}\",\n",
    "            key_prefix='chat:'\n",
    "        )\n",
    "\n",
    "def get_memory(chatId: str) -> BaseChatMemory:\n",
    "    return ConversationSummaryBufferMemory(\n",
    "            llm=BedrockClaude().get_chat_model(),\n",
    "            max_token_limit=1000,\n",
    "            memory_key=\"history\",\n",
    "            chat_memory=get_redis_chat(chatId),\n",
    "            ai_prefix=\"Assistant\",\n",
    "            human_prefix=\"Human\",\n",
    "            return_messages=False\n",
    "        )\n",
    "\n",
    "def load_memory(chatId):\n",
    "    memory = get_memory(chatId)\n",
    "    return memory.load_memory_variables({})[\"history\"]"
   ]
  },
  {
   "attachments": {},
   "cell_type": "markdown",
   "metadata": {},
   "source": [
    "## 2. Retriever 정의"
   ]
  },
  {
   "cell_type": "code",
   "execution_count": 3,
   "metadata": {},
   "outputs": [
    {
     "data": {
      "text/plain": [
       "True"
      ]
     },
     "execution_count": 3,
     "metadata": {},
     "output_type": "execute_result"
    }
   ],
   "source": [
    "embedding = BedrockEmbedding()\n",
    "\n",
    "osImage = OpenSearchWrapper(\n",
    "    endpoint=config.OPENSEARCH_ENDPOINT,\n",
    "    index=config.OPENSEARCH_INDEX_IMAGE,\n",
    "    region=config.OPENSEARCH_REGION\n",
    ")\n",
    "\n",
    "osText = OpenSearchWrapper(\n",
    "    endpoint=config.OPENSEARCH_ENDPOINT,\n",
    "    index=config.OPENSEARCH_INDEX_TEXT,\n",
    "    region=config.OPENSEARCH_REGION\n",
    ")\n",
    "\n",
    "osImage.client.ping()"
   ]
  },
  {
   "cell_type": "code",
   "execution_count": 4,
   "metadata": {},
   "outputs": [],
   "source": [
    "from langchain.schema import Document\n",
    "\n",
    "def _extract_docs(docs):\n",
    "    transform = lambda doc: {\n",
    "        '_score': doc.get('_score', 0),\n",
    "        'text': doc.get('_source', {}).get('text', ''),\n",
    "        **doc.get('_source', {}).get('metadata', '{}')\n",
    "    }\n",
    "    return [transform(doc) for doc in docs]\n",
    "\n",
    "def search_multimodal(text: str = None, image: str = None):\n",
    "    vector = embedding.embedding_multimodal(text=text, image=image)\n",
    "    return osImage.vector_search(vector=vector)\n",
    "    \n",
    "def search_text(text: str = None, image: str = None):\n",
    "    if image:\n",
    "        text = Augmentation().describe_image(image=image)\n",
    "    vector = embedding.embedding_text(text=text)\n",
    "    return osText.vector_search(vector=vector)\n",
    "\n",
    "def retrieve(text: str = None, image: str = None) -> List:\n",
    "    docs = []\n",
    "    if image:\n",
    "        docs.extend(search_multimodal(image=image))\n",
    "    elif text:\n",
    "        docs.extend(search_text(text=text))    \n",
    "    return _extract_docs(docs)"
   ]
  },
  {
   "attachments": {},
   "cell_type": "markdown",
   "metadata": {},
   "source": [
    "## 3. Prompt 정의\n",
    "\n",
    "이전 대화 내용과 검색된 문서들을 하나의 프롬프트에 넣어 생성합니다."
   ]
  },
  {
   "cell_type": "code",
   "execution_count": 5,
   "metadata": {},
   "outputs": [],
   "source": [
    "from langchain.prompts import PromptTemplate\n",
    "from langchain.schema import (\n",
    "    HumanMessage,\n",
    "    SystemMessage,\n",
    "    Document,\n",
    ")\n",
    "\n",
    "FASHION_PROMPT_TEMPLATE = \"\"\"\n",
    "Human would like to find fashion products, and you recommend fashion products that users want through conversations and question using only information from the search results.\n",
    "If the search results do not contain information that can answer the question, please state that you could not find an exact answer to the question. Always answer in Korean.\n",
    "\n",
    "Here are the instructions:\n",
    "<instruction>\n",
    "1. Analyze the user's query to understand the context and required information.\n",
    "2. Generate a detailed and accurate response based on the provided sources.\n",
    "3. For each sentence in the response, explain why you recommend the product. Use the format\n",
    "[id]:productDisplayName\n",
    "4. Ensure the response is coherent and logically structured.\n",
    "</instruction>\n",
    "\n",
    "Here are the conversation between an Assistant and a Human:\n",
    "<conversations>\n",
    "{conversations}\n",
    "</conversations>\n",
    "\n",
    "Here are the search results:\n",
    "<search>\n",
    "{search}\n",
    "</search>\n",
    "\n",
    "Here is a question from Human:\n",
    "<question>\n",
    "{question}\n",
    "</question>\n",
    "\"\"\"\n",
    "\n",
    "\n",
    "def get_prompt(text: str = None, image: str = None, conversations = None, context: List[Document] = None):\n",
    "    content = []\n",
    "\n",
    "    if image:\n",
    "        content.append({\n",
    "            \"type\": \"image_url\",\n",
    "            \"image_url\": {\n",
    "                \"url\": f\"data:image/webp;base64,{image}\",\n",
    "            },\n",
    "        })\n",
    "\n",
    "    text = PromptTemplate(\n",
    "            template=FASHION_PROMPT_TEMPLATE,\n",
    "            input_variables=[\"question\", \"conversations\", \"search\"]\n",
    "        ).format(question=text, conversations=conversations, search=context)\n",
    "\n",
    "    content.append({\n",
    "        \"type\": \"text\",\n",
    "        \"text\": text\n",
    "    })\n",
    "\n",
    "    messages = [\n",
    "        SystemMessage(content=\"You are an assistant who recommends appropriate fashion products.\"),\n",
    "        HumanMessage(\n",
    "            content=content\n",
    "        )\n",
    "    ]\n",
    "\n",
    "    return messages"
   ]
  },
  {
   "attachments": {},
   "cell_type": "markdown",
   "metadata": {},
   "source": [
    "## 4. LLM 모델 정의\n",
    "\n",
    "Bedrock과 LangChain을 이용해 LLM 모델로 사용할 chat model을 정의합니다."
   ]
  },
  {
   "cell_type": "code",
   "execution_count": 6,
   "metadata": {},
   "outputs": [],
   "source": [
    "import asyncio\n",
    "from uuid import uuid4\n",
    "from aws.claude import BedrockClaude\n",
    "from langchain.callbacks import AsyncIteratorCallbackHandler\n",
    "\n",
    "\n",
    "# async 하게 토큰별로 출력하기 위한 callback 함수 정의\n",
    "class AsyncPrintTokenCallback(AsyncIteratorCallbackHandler):\n",
    "    async def on_llm_new_token(self, token: str, **kwargs) -> None:\n",
    "        print(token, end='', flush=True)\n",
    "\n",
    "\n",
    "async def chat(message: str):\n",
    "    llm = BedrockClaude().get_chat_model(callback=AsyncPrintTokenCallback())\n",
    "    task = asyncio.create_task(llm.ainvoke(input=message))\n",
    "    res = await task\n",
    "    print(f'\\n\\n========[RESULT]==========')\n",
    "    print(res)\n",
    "    print(f'==========================\\n')\n",
    "    return res\n",
    "\n",
    "async def chat_rag(question, image=None, chatId=str(uuid4())):\n",
    "    context = retrieve(text=question, image=image) # 검색\n",
    "    \n",
    "    # 프롬프트에 검색 결과와 대화 기록 추가\n",
    "    prompt = get_prompt(\n",
    "        text=question,\n",
    "        image=image,\n",
    "        conversations=load_memory(chatId),\n",
    "        context=context\n",
    "    )\n",
    "    \n",
    "    res = await chat(message=prompt)\n",
    "\n",
    "    # memory에 대화 내용 저장\n",
    "    memory = get_memory(chatId=chatId)\n",
    "    memory.save_context(\n",
    "        inputs={\"human\": question},\n",
    "        outputs={\"ai\": res.content}\n",
    "    )"
   ]
  },
  {
   "attachments": {},
   "cell_type": "markdown",
   "metadata": {},
   "source": [
    "## 5. 테스트"
   ]
  },
  {
   "cell_type": "code",
   "execution_count": 7,
   "metadata": {},
   "outputs": [
    {
     "name": "stdout",
     "output_type": "stream",
     "text": [
      "물론입니다. 빨간색 티셔츠는 활력 있고 눈에 띄는 색상이라 다양한 스타일에 잘 어울립니다. 몇 가지 추천해드리겠습니다.\n",
      "\n",
      "1. 베이식 라운드 넥 티셔츠 - 단정하면서도 캐주얼한 스타일로 데님진이나 면바지와 잘 어울립니다.\n",
      "\n",
      "2. 박시 핏 오버사이즈 티셔츠 - 루즈한 핏으로 스트리트 무드를 연출할 수 있습니다. 치노 팬츠나 조거 팬츠와 매치하면 좋습니다.\n",
      "\n",
      "3. 그래픽 프린트 티셔츠 - 개성 있는 패턴이나 문구가 있어 포인트가 되는 아이템입니다. 심플한 아우터나 팬츠와 코디하면 좋습니다.\n",
      "\n",
      "4. 브이넥 슬림핏 티셔츠 - 슬림한 실루엣으로 몸매 라인을 잡아줍니다. 슬림진이나 치노 팬츠와 매치하면 스타일리시한 룩이 완성됩니다.\n",
      "\n",
      "색상과 디자인, 핏에 따라 다양한 스타일링이 가능하니 취향에 맞는 제품을 고르시면 됩니다.\n",
      "\n",
      "========[RESULT]==========\n",
      "content='물론입니다. 빨간색 티셔츠는 활력 있고 눈에 띄는 색상이라 다양한 스타일에 잘 어울립니다. 몇 가지 추천해드리겠습니다.\\n\\n1. 베이식 라운드 넥 티셔츠 - 단정하면서도 캐주얼한 스타일로 데님진이나 면바지와 잘 어울립니다.\\n\\n2. 박시 핏 오버사이즈 티셔츠 - 루즈한 핏으로 스트리트 무드를 연출할 수 있습니다. 치노 팬츠나 조거 팬츠와 매치하면 좋습니다.\\n\\n3. 그래픽 프린트 티셔츠 - 개성 있는 패턴이나 문구가 있어 포인트가 되는 아이템입니다. 심플한 아우터나 팬츠와 코디하면 좋습니다.\\n\\n4. 브이넥 슬림핏 티셔츠 - 슬림한 실루엣으로 몸매 라인을 잡아줍니다. 슬림진이나 치노 팬츠와 매치하면 스타일리시한 룩이 완성됩니다.\\n\\n색상과 디자인, 핏에 따라 다양한 스타일링이 가능하니 취향에 맞는 제품을 고르시면 됩니다.' additional_kwargs={'usage': {'prompt_tokens': 24, 'completion_tokens': 453, 'total_tokens': 477}, 'stop_reason': 'end_turn', 'model_id': 'anthropic.claude-3-sonnet-20240229-v1:0'} response_metadata={'usage': {'prompt_tokens': 24, 'completion_tokens': 453, 'total_tokens': 477}, 'stop_reason': 'end_turn', 'model_id': 'anthropic.claude-3-sonnet-20240229-v1:0'} id='run-5575f910-5820-4b52-8f1f-124bfb8a8426-0'\n",
      "==========================\n",
      "\n"
     ]
    }
   ],
   "source": [
    "# RAG 없이 질문\n",
    "_ = await chat(message='빨간색 티셔츠 추천해줘')"
   ]
  },
  {
   "cell_type": "code",
   "execution_count": 9,
   "metadata": {},
   "outputs": [
    {
     "name": "stdout",
     "output_type": "stream",
     "text": [
      "네, 빨간색 티셔츠를 추천해 드리겠습니다.\n",
      "\n",
      "[10866]: Wrangler Men Motor Rider Red T-Shirts\n",
      "이 티셔츠는 라운드 넥 디자인에 오토바이 그래픽 프린트가 있어 캐주얼하면서도 스타일리시한 룩을 연출할 수 있습니다. 면 소재로 제작되어 편안한 착용감을 자랑합니다.\n",
      "\n",
      "[12908]: Spykar Men Check Red Shirts  \n",
      "가을 시즌에 잘 어울리는 체크 무늬 셔츠입니다. 빨간색과 검은색 체크 패턴이 매력적이며, 부드러운 소재와 편안한 착용감을 지녔습니다. 캐주얼한 스타일에 세련미를 더해줄 셔츠입니다.\n",
      "\n",
      "[2689]: Inkfruit Women Happy Dolphin Purple T-shirt\n",
      "보라색 배경에 파란색과 빨간색 돌고래 디자인이 프린트된 여성용 캐주얼 티셔츠입니다. 면 소재로 만들어져 부드럽고 착용감이 좋습니다.\n",
      "\n",
      "[57029]: Forever New Women Pink Top  \n",
      "빨간색 브라우스에 프릴 장식과 레이스업 디테일이 있어 여성스러운 룩을 연출하기에 좋습니다. 가벼운 소재감으로 활동성도 좋습니다.\n",
      "\n",
      "제가 추천한 제품들 중에서 취향에 맞는 스타일의 빨간색 상의를 고르시면 되겠습니다.\n",
      "\n",
      "========[RESULT]==========\n",
      "content='네, 빨간색 티셔츠를 추천해 드리겠습니다.\\n\\n[10866]: Wrangler Men Motor Rider Red T-Shirts\\n이 티셔츠는 라운드 넥 디자인에 오토바이 그래픽 프린트가 있어 캐주얼하면서도 스타일리시한 룩을 연출할 수 있습니다. 면 소재로 제작되어 편안한 착용감을 자랑합니다.\\n\\n[12908]: Spykar Men Check Red Shirts  \\n가을 시즌에 잘 어울리는 체크 무늬 셔츠입니다. 빨간색과 검은색 체크 패턴이 매력적이며, 부드러운 소재와 편안한 착용감을 지녔습니다. 캐주얼한 스타일에 세련미를 더해줄 셔츠입니다.\\n\\n[2689]: Inkfruit Women Happy Dolphin Purple T-shirt\\n보라색 배경에 파란색과 빨간색 돌고래 디자인이 프린트된 여성용 캐주얼 티셔츠입니다. 면 소재로 만들어져 부드럽고 착용감이 좋습니다.\\n\\n[57029]: Forever New Women Pink Top  \\n빨간색 브라우스에 프릴 장식과 레이스업 디테일이 있어 여성스러운 룩을 연출하기에 좋습니다. 가벼운 소재감으로 활동성도 좋습니다.\\n\\n제가 추천한 제품들 중에서 취향에 맞는 스타일의 빨간색 상의를 고르시면 되겠습니다.' additional_kwargs={'usage': {'prompt_tokens': 3491, 'completion_tokens': 518, 'total_tokens': 4009}, 'stop_reason': 'end_turn', 'model_id': 'anthropic.claude-3-sonnet-20240229-v1:0'} response_metadata={'usage': {'prompt_tokens': 3491, 'completion_tokens': 518, 'total_tokens': 4009}, 'stop_reason': 'end_turn', 'model_id': 'anthropic.claude-3-sonnet-20240229-v1:0'} id='run-9bb5b4a1-0a49-4e76-a416-5d13c2782217-0'\n",
      "==========================\n",
      "\n"
     ]
    }
   ],
   "source": [
    "chatId = 'sample-chat'\n",
    "memory = get_memory(chatId=chatId)\n",
    "\n",
    "await chat_rag(question='빨간색 티셔츠 추천해줘', chatId=chatId)"
   ]
  },
  {
   "cell_type": "code",
   "execution_count": 10,
   "metadata": {},
   "outputs": [
    {
     "data": {
      "text/html": [
       "<img src=\"data:image/webp;base64,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\" height=\"100\"/>"
      ],
      "text/plain": [
       "<IPython.core.display.HTML object>"
      ]
     },
     "metadata": {},
     "output_type": "display_data"
    },
    {
     "name": "stdout",
     "output_type": "stream",
     "text": [
      "제공된 이미지는 노란색과 흰색 스트라이프 무늬의 반팔 폴로 셔츠를 착용한 남성 모델을 보여주고 있습니다. 검색 결과에는 비슷한 스타일의 폴로 셔츠가 몇 가지 있습니다. \n",
      "\n",
      "[11743]: Lee Men Green Polo Tshirts\n",
      "이 폴로 셔츠는 올리브 그린 색상에 연한 그린 스트라이프 무늬가 있어 이미지의 제품과 비슷한 스타일입니다. 면 소재로 제작되어 편안한 착용감을 자랑합니다.\n",
      "\n",
      "[5719]: Basics Men Green Academy Football League T-shirt  \n",
      "녹색 바탕에 흰색과 갈색 스트라이프 무늬가 있는 폴로 셔츠입니다. 이미지 제품과 유사한 스트라이프 패턴을 가지고 있으며, 캐주얼한 스타일의 여름 셔츠입니다.\n",
      "\n",
      "[19594]: United Colors of Benetton Men Striped Black TShirt\n",
      "회색과 검정색 스트라이프 패턴의 긴팔 폴로 셔츠로, 이미지 제품과 비슷한 스트라이프 디자인을 가지고 있습니다. \n",
      "\n",
      "위 제품들이 이미지의 노란색 스트라이프 폴로 셔츠와 가장 유사한 스타일을 보여주고 있습니다. 취향에 맞는 색상과 디자인을 고르시면 되겠습니다.\n",
      "\n",
      "========[RESULT]==========\n",
      "content='제공된 이미지는 노란색과 흰색 스트라이프 무늬의 반팔 폴로 셔츠를 착용한 남성 모델을 보여주고 있습니다. 검색 결과에는 비슷한 스타일의 폴로 셔츠가 몇 가지 있습니다. \\n\\n[11743]: Lee Men Green Polo Tshirts\\n이 폴로 셔츠는 올리브 그린 색상에 연한 그린 스트라이프 무늬가 있어 이미지의 제품과 비슷한 스타일입니다. 면 소재로 제작되어 편안한 착용감을 자랑합니다.\\n\\n[5719]: Basics Men Green Academy Football League T-shirt  \\n녹색 바탕에 흰색과 갈색 스트라이프 무늬가 있는 폴로 셔츠입니다. 이미지 제품과 유사한 스트라이프 패턴을 가지고 있으며, 캐주얼한 스타일의 여름 셔츠입니다.\\n\\n[19594]: United Colors of Benetton Men Striped Black TShirt\\n회색과 검정색 스트라이프 패턴의 긴팔 폴로 셔츠로, 이미지 제품과 비슷한 스트라이프 디자인을 가지고 있습니다. \\n\\n위 제품들이 이미지의 노란색 스트라이프 폴로 셔츠와 가장 유사한 스타일을 보여주고 있습니다. 취향에 맞는 색상과 디자인을 고르시면 되겠습니다.' additional_kwargs={'usage': {'prompt_tokens': 3473, 'completion_tokens': 509, 'total_tokens': 3982}, 'stop_reason': 'end_turn', 'model_id': 'anthropic.claude-3-sonnet-20240229-v1:0'} response_metadata={'usage': {'prompt_tokens': 3473, 'completion_tokens': 509, 'total_tokens': 3982}, 'stop_reason': 'end_turn', 'model_id': 'anthropic.claude-3-sonnet-20240229-v1:0'} id='run-f0b48807-b9bb-4e0a-a632-101e9ffdb0a7-0'\n",
      "==========================\n",
      "\n"
     ]
    }
   ],
   "source": [
    "from dataloader import get_item\n",
    "from utils import encode_image_base64\n",
    "from notebook_utils import display_image\n",
    "\n",
    "item = get_item('12206')\n",
    "image = encode_image_base64(item['thumbnail'])\n",
    "display_image(image)\n",
    "await chat_rag(question='이 이미지랑 비슷한 제품', image=image, chatId=chatId)"
   ]
  },
  {
   "cell_type": "code",
   "execution_count": null,
   "metadata": {},
   "outputs": [],
   "source": []
  }
 ],
 "metadata": {
  "kernelspec": {
   "display_name": "base",
   "language": "python",
   "name": "python3"
  },
  "language_info": {
   "codemirror_mode": {
    "name": "ipython",
    "version": 3
   },
   "file_extension": ".py",
   "mimetype": "text/x-python",
   "name": "python",
   "nbconvert_exporter": "python",
   "pygments_lexer": "ipython3",
   "version": "3.9.12"
  },
  "orig_nbformat": 4,
  "vscode": {
   "interpreter": {
    "hash": "2c97182bcee1c5a46c75e12f527516848bb4d812af65bc6ddf5c082f318f5a83"
   }
  }
 },
 "nbformat": 4,
 "nbformat_minor": 2
}
