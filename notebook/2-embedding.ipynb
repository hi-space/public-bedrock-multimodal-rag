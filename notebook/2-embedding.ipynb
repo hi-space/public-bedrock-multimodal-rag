{
 "cells": [
  {
   "cell_type": "code",
   "execution_count": 1,
   "metadata": {},
   "outputs": [],
   "source": [
    "from config import config\n",
    "from notebook_utils import update_doc_to_index\n",
    "from dataloader import augment_text\n",
    "from aws.dynamodb import DynamoDBWrapper\n",
    "from aws.opensearch import OpenSearchWrapper\n",
    "from aws.embedding import BedrockEmbedding\n",
    "from utils import encode_image_base64"
   ]
  },
  {
   "attachments": {},
   "cell_type": "markdown",
   "metadata": {},
   "source": [
    "---\n",
    "\n",
    "## Vector store로 사용할 OpenSearch Index 생성\n",
    "- [Prerequirements] OpenSearch Service가 생성되어 있어야 합니다"
   ]
  },
  {
   "cell_type": "code",
   "execution_count": 5,
   "metadata": {},
   "outputs": [
    {
     "data": {
      "text/plain": [
       "True"
      ]
     },
     "execution_count": 5,
     "metadata": {},
     "output_type": "execute_result"
    }
   ],
   "source": [
    "embedding = BedrockEmbedding()\n",
    "\n",
    "osImage = OpenSearchWrapper(\n",
    "    endpoint=config.OPENSEARCH_ENDPOINT,\n",
    "    index=config.OPENSEARCH_INDEX_IMAGE,\n",
    "    region=config.OPENSEARCH_REGION\n",
    ")\n",
    "\n",
    "osText = OpenSearchWrapper(\n",
    "    endpoint=config.OPENSEARCH_ENDPOINT,\n",
    "    index=config.OPENSEARCH_INDEX_TEXT,\n",
    "    region=config.OPENSEARCH_REGION\n",
    ")\n",
    "\n",
    "osImage.client.ping()"
   ]
  },
  {
   "cell_type": "code",
   "execution_count": 7,
   "metadata": {},
   "outputs": [
    {
     "name": "stdout",
     "output_type": "stream",
     "text": [
      "delete index: product-image\n",
      "create index: product-image\n",
      "delete index: product-text\n",
      "create index: product-text\n"
     ]
    }
   ],
   "source": [
    "osImage.create_index(index_path='./os-index-schema.json')\n",
    "osText.create_index(index_path='./os-index-schema.json')"
   ]
  },
  {
   "attachments": {},
   "cell_type": "markdown",
   "metadata": {},
   "source": [
    "---\n",
    "\n",
    "## Embedding 해서 OpenSearch(VectorDB)에 저장\n",
    "- DynamoDB에서 아이템을 읽은 후, embedding 하여 OpenSearch에 저장합니다.\n",
    "\n",
    "```mermaid\n",
    "graph LR\n",
    "    A[\\image\\]:::imageStyle\n",
    "    B[\\image + name_kor\\]:::imageStyle\n",
    "    C[\\text summary\\]:::descStyle\n",
    "    D[\\description\\]:::descStyle\n",
    "    E[\\image summary\\]:::descStyle\n",
    "    \n",
    "    A --> F[[Multimodal Embedding]]:::multiEmbeddingStyle\n",
    "    B --> F[[Multimodal Embedding]]:::multiEmbeddingStyle\n",
    "    C --> G[[Text Embedding]]:::textEmbeddingStyle\n",
    "    D --> G[[Text Embedding]]:::textEmbeddingStyle\n",
    "    E -->G[[Text Embedding]]:::multiEmbeddingStyle\n",
    "\n",
    "    F --> H[(product-image)]:::outputStyle\n",
    "    G --> I[(product-text)]:::outputStyle\n",
    "\n",
    "    classDef imageStyle fill:#B090F3,stroke:#E6E6FA,stroke-width:2px,color:#000000;\n",
    "    classDef descStyle fill:#87CAF0,stroke:#E6E6FA,stroke-width:2px,color:#000000;\n",
    "    classDef multiEmbeddingStyle fill:#FFA500,stroke:#F08D2B,stroke-width:2px,color:#000000;\n",
    "    classDef textEmbeddingStyle fill:#FFE451,stroke:#F08D2B,stroke-width:2px,color:#000000;\n",
    "    classDef outputStyle fill:#F08D2B,stroke:#FFFFFF,stroke-width:2px,color:#000000;\n",
    "```"
   ]
  },
  {
   "cell_type": "code",
   "execution_count": 10,
   "metadata": {},
   "outputs": [],
   "source": [
    "db = DynamoDBWrapper(table_name=config.DYNAMODB_TABLE)\n",
    "items = db.query({\n",
    "    'Limit': 100\n",
    "}).get('Items', [])\n",
    "\n",
    "for item in items:\n",
    "    id = item.get('id')\n",
    "    namekor = item.get('namekor')\n",
    "    nameeng = item.get('productDisplayName')\n",
    "    image = encode_image_base64(item.get('thumbnail'))\n",
    "    image_summary = item.get('image_summary')\n",
    "    tags = ', '.join(item.get('tags'))\n",
    "    text = augment_text(item)\n",
    "    summary = f\"{text} {item.get('summary')} {tags}\".replace('\\n', ' ')\n",
    "    description = f\"{nameeng} {namekor} {item.get('description')}\".replace('\\n', ' ')\n",
    "\n",
    "    # [image vector] image\n",
    "    update_doc_to_index(\n",
    "        opensearch=osImage,\n",
    "        item=item,\n",
    "        vector=embedding.embedding_multimodal(\n",
    "            image=image\n",
    "        ),\n",
    "        text=image_summary,\n",
    "        embedType='image'\n",
    "    )\n",
    "\n",
    "    # [image vector] image + namekor\n",
    "    update_doc_to_index(\n",
    "        opensearch=osImage,\n",
    "        item=item,\n",
    "        vector=embedding.embedding_multimodal(\n",
    "            image=image,\n",
    "            text=namekor,\n",
    "        ),\n",
    "        text=namekor,\n",
    "        embedType='image-namekor'\n",
    "    )\n",
    "        \n",
    "    # [text vector] description\n",
    "    update_doc_to_index(\n",
    "        opensearch=osText,\n",
    "        item=item,\n",
    "        vector=embedding.embedding_text(\n",
    "            text=description,\n",
    "        ),\n",
    "        text=description,\n",
    "        embedType='text'\n",
    "    )\n",
    "\n",
    "    # [text vector] summary\n",
    "    update_doc_to_index(\n",
    "        opensearch=osText,\n",
    "        item=item,\n",
    "        vector=embedding.embedding_text(\n",
    "            text=summary,\n",
    "        ),\n",
    "        text=summary,\n",
    "        embedType='text-summary'\n",
    "    )\n",
    "\n",
    "    # [text vector] image summary\n",
    "    update_doc_to_index(\n",
    "        opensearch=osText,\n",
    "        item=item,\n",
    "        vector=embedding.embedding_text(\n",
    "            text=image_summary,\n",
    "        ),\n",
    "        text=image_summary,\n",
    "        embedType='text-imgdesc'\n",
    "    )"
   ]
  },
  {
   "cell_type": "code",
   "execution_count": null,
   "metadata": {},
   "outputs": [],
   "source": []
  }
 ],
 "metadata": {
  "kernelspec": {
   "display_name": "base",
   "language": "python",
   "name": "python3"
  },
  "language_info": {
   "codemirror_mode": {
    "name": "ipython",
    "version": 3
   },
   "file_extension": ".py",
   "mimetype": "text/x-python",
   "name": "python",
   "nbconvert_exporter": "python",
   "pygments_lexer": "ipython3",
   "version": "3.9.12"
  },
  "orig_nbformat": 4,
  "vscode": {
   "interpreter": {
    "hash": "2c97182bcee1c5a46c75e12f527516848bb4d812af65bc6ddf5c082f318f5a83"
   }
  }
 },
 "nbformat": 4,
 "nbformat_minor": 2
}
